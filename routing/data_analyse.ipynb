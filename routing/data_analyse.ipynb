{
 "cells": [
  {
   "cell_type": "code",
   "execution_count": 1,
   "id": "initial_id",
   "metadata": {
    "collapsed": true,
    "ExecuteTime": {
     "end_time": "2024-05-23T08:09:53.862212Z",
     "start_time": "2024-05-23T08:09:52.531969Z"
    }
   },
   "outputs": [],
   "source": [
    "import pandas as pd"
   ]
  },
  {
   "cell_type": "code",
   "execution_count": 30,
   "outputs": [],
   "source": [
    "import re\n",
    "\n",
    "\n",
    "def extract_end_to_end_delay_mean(filename):\n",
    "    end_to_end_delay_means = []\n",
    "    end_to_end_jitter_means = []\n",
    "    package_sum = 0\n",
    "    package_receive_sum = 0\n",
    "\n",
    "    with open(filename, 'r') as file:\n",
    "        file_str = file.read()\n",
    "            # 使用正则表达式找到包含 endToEndDelay:mean 的行\n",
    "        delay_matchs = re.findall(r'endToEndDelay:mean (\\d+\\.\\d+)', file_str)\n",
    "        jitter_matchs = re.findall(r'endToEndJitter:mean (\\d+\\.\\d+)', file_str)\n",
    "        package_nums = re.findall(r'sendCount:count (\\d+)', file_str)\n",
    "        package_receives = re.findall(r'receiveCount:count (\\d+)', file_str)\n",
    "\n",
    "        if delay_matchs:\n",
    "            end_to_end_delay_means = [float(match) for match in delay_matchs]\n",
    "        if jitter_matchs:\n",
    "            end_to_end_jitter_means = [float(match) for match in jitter_matchs]\n",
    "        if package_nums:\n",
    "            package_sum = sum([int(match) for match in package_nums])\n",
    "        if package_receives:\n",
    "            package_receive_sum = sum([int(match) for match in package_receives])\n",
    "            \n",
    "        packet_length = re.search(r'packetLength\\s+(\\d+byte)', file_str)\n",
    "        sendIaTime = re.search(r'sendIaTime (exponential\\((.*?)\\))', file_str)\n",
    "            \n",
    "        if packet_length and sendIaTime:\n",
    "            packet_length = packet_length.group(1)\n",
    "            sendIaTime = sendIaTime.group(1)\n",
    "        else:\n",
    "            print(packet_length)\n",
    "            print(sendIaTime)\n",
    "            raise Exception(\"未统计packet_length和sendIaTime\")\n",
    "\n",
    "    return packet_length,sendIaTime, sum(end_to_end_delay_means) / len(end_to_end_delay_means), sum(end_to_end_jitter_means) / len(\n",
    "        end_to_end_jitter_means), (package_sum - package_receive_sum) / package_sum"
   ],
   "metadata": {
    "collapsed": false,
    "ExecuteTime": {
     "end_time": "2024-05-15T03:28:53.351289Z",
     "start_time": "2024-05-15T03:28:53.337059Z"
    }
   },
   "id": "e8cc4874dfd10aad"
  },
  {
   "cell_type": "code",
   "execution_count": 31,
   "outputs": [
    {
     "data": {
      "text/plain": "0.24258498064846648"
     },
     "execution_count": 31,
     "metadata": {},
     "output_type": "execute_result"
    }
   ],
   "source": [
    "packet_length,sendIaTime, end_to_end_delay_means, end_to_end_jitter_means, plr = extract_end_to_end_delay_mean(\"results/0/General-#0.sca\")\n",
    "plr"
   ],
   "metadata": {
    "collapsed": false,
    "ExecuteTime": {
     "end_time": "2024-05-15T03:28:53.794490Z",
     "start_time": "2024-05-15T03:28:53.779586Z"
    }
   },
   "id": "db2de1d657f7af98"
  },
  {
   "cell_type": "code",
   "execution_count": 33,
   "outputs": [
    {
     "data": {
      "text/plain": "   net_id packet_length          sendIaTime  end_to_end_delay  \\\n0       0      4096byte  exponential(100ms)        956.049396   \n1       1      4096byte     exponential(1s)          1.007156   \n2       2      4096byte     exponential(1s)        492.758720   \n3       3      4096byte     exponential(1s)       1547.751103   \n4       4      4096byte     exponential(1s)       3153.400017   \n\n   end_to_end_jitter  package_loss_rate  \n0           2.584084           0.242585  \n1           3.076476           0.000008  \n2           2.894900           0.020339  \n3           4.722917           0.077650  \n4           2.411540           0.155108  ",
      "text/html": "<div>\n<style scoped>\n    .dataframe tbody tr th:only-of-type {\n        vertical-align: middle;\n    }\n\n    .dataframe tbody tr th {\n        vertical-align: top;\n    }\n\n    .dataframe thead th {\n        text-align: right;\n    }\n</style>\n<table border=\"1\" class=\"dataframe\">\n  <thead>\n    <tr style=\"text-align: right;\">\n      <th></th>\n      <th>net_id</th>\n      <th>packet_length</th>\n      <th>sendIaTime</th>\n      <th>end_to_end_delay</th>\n      <th>end_to_end_jitter</th>\n      <th>package_loss_rate</th>\n    </tr>\n  </thead>\n  <tbody>\n    <tr>\n      <th>0</th>\n      <td>0</td>\n      <td>4096byte</td>\n      <td>exponential(100ms)</td>\n      <td>956.049396</td>\n      <td>2.584084</td>\n      <td>0.242585</td>\n    </tr>\n    <tr>\n      <th>1</th>\n      <td>1</td>\n      <td>4096byte</td>\n      <td>exponential(1s)</td>\n      <td>1.007156</td>\n      <td>3.076476</td>\n      <td>0.000008</td>\n    </tr>\n    <tr>\n      <th>2</th>\n      <td>2</td>\n      <td>4096byte</td>\n      <td>exponential(1s)</td>\n      <td>492.758720</td>\n      <td>2.894900</td>\n      <td>0.020339</td>\n    </tr>\n    <tr>\n      <th>3</th>\n      <td>3</td>\n      <td>4096byte</td>\n      <td>exponential(1s)</td>\n      <td>1547.751103</td>\n      <td>4.722917</td>\n      <td>0.077650</td>\n    </tr>\n    <tr>\n      <th>4</th>\n      <td>4</td>\n      <td>4096byte</td>\n      <td>exponential(1s)</td>\n      <td>3153.400017</td>\n      <td>2.411540</td>\n      <td>0.155108</td>\n    </tr>\n  </tbody>\n</table>\n</div>"
     },
     "execution_count": 33,
     "metadata": {},
     "output_type": "execute_result"
    }
   ],
   "source": [
    "def result_statistic(net_id_list):\n",
    "    columns = ['net_id','packet_length','sendIaTime', 'end_to_end_delay', 'end_to_end_jitter', 'package_loss_rate']\n",
    "    df = pd.DataFrame(columns=columns,index=None)\n",
    "    for i in net_id_list:\n",
    "        data_path = f\"results/{i}/General-#0.sca\"\n",
    "        packet_length,sendIaTime, end_to_end_delay_means, end_to_end_jitter_means, plr = extract_end_to_end_delay_mean(data_path)\n",
    "        entry = {\n",
    "            'net_id': i,\n",
    "            'packet_length':packet_length,\n",
    "            'sendIaTime':sendIaTime,\n",
    "            'end_to_end_delay': end_to_end_delay_means,\n",
    "            'end_to_end_jitter': end_to_end_jitter_means,\n",
    "            'package_loss_rate': plr\n",
    "        }\n",
    "        df.loc[len(df)] = entry\n",
    "    return df\n",
    "df  = result_statistic(range(10))\n",
    "df.head(5)"
   ],
   "metadata": {
    "collapsed": false,
    "ExecuteTime": {
     "end_time": "2024-05-15T05:52:40.694851Z",
     "start_time": "2024-05-15T05:52:40.661534Z"
    }
   },
   "id": "b65be63e96067416"
  },
  {
   "cell_type": "code",
   "execution_count": 37,
   "outputs": [
    {
     "data": {
      "text/plain": "['0', '1', '2', '3', '4', '5', '6', '7', '8', '9']"
     },
     "execution_count": 37,
     "metadata": {},
     "output_type": "execute_result"
    }
   ],
   "source": [
    "import os\n",
    "\n",
    "\n",
    "def collect_integer_named_folders(directory):\n",
    "    # 正则表达式匹配整数命名的文件夹\n",
    "    pattern = re.compile(r'^\\d+$')\n",
    "    \n",
    "    # 收集文件夹名称列表\n",
    "    integer_named_folders = []\n",
    "    \n",
    "    # 遍历目录中的所有文件和文件夹\n",
    "    for item in os.listdir(directory):\n",
    "        item_path = os.path.join(directory, item)\n",
    "        if os.path.isdir(item_path) and pattern.match(item):\n",
    "            integer_named_folders.append(item)\n",
    "    integer_named_folders.sort()\n",
    "    return integer_named_folders\n",
    "\n",
    "# 指定要搜索的目录路径\n",
    "directory_path = 'results'\n",
    "\n",
    "# 获取所有以整数命名的文件夹列表\n",
    "integer_folders = collect_integer_named_folders(directory_path)\n",
    "integer_folders"
   ],
   "metadata": {
    "collapsed": false,
    "ExecuteTime": {
     "end_time": "2024-05-15T06:06:51.336151Z",
     "start_time": "2024-05-15T06:06:51.321697Z"
    }
   },
   "id": "602ddbf518c37d8a"
  },
  {
   "cell_type": "code",
   "execution_count": 6,
   "outputs": [
    {
     "data": {
      "text/plain": "   src  dst  avgDelay  avgJitter  pkgLossRate\n0    2   36   6.17536   1.053850     0.986957\n1    3   38   5.73164   1.160690     1.000000\n2    4   38   7.07240   1.054160     1.000000\n3    5   36   2.70167   0.059093     1.000000\n4    6   39   3.77342   0.994522     1.000000\n5    7   37   1.85727   0.028162     0.992000\n6    9   36   3.21745   0.039634     0.995192",
      "text/html": "<div>\n<style scoped>\n    .dataframe tbody tr th:only-of-type {\n        vertical-align: middle;\n    }\n\n    .dataframe tbody tr th {\n        vertical-align: top;\n    }\n\n    .dataframe thead th {\n        text-align: right;\n    }\n</style>\n<table border=\"1\" class=\"dataframe\">\n  <thead>\n    <tr style=\"text-align: right;\">\n      <th></th>\n      <th>src</th>\n      <th>dst</th>\n      <th>avgDelay</th>\n      <th>avgJitter</th>\n      <th>pkgLossRate</th>\n    </tr>\n  </thead>\n  <tbody>\n    <tr>\n      <th>0</th>\n      <td>2</td>\n      <td>36</td>\n      <td>6.17536</td>\n      <td>1.053850</td>\n      <td>0.986957</td>\n    </tr>\n    <tr>\n      <th>1</th>\n      <td>3</td>\n      <td>38</td>\n      <td>5.73164</td>\n      <td>1.160690</td>\n      <td>1.000000</td>\n    </tr>\n    <tr>\n      <th>2</th>\n      <td>4</td>\n      <td>38</td>\n      <td>7.07240</td>\n      <td>1.054160</td>\n      <td>1.000000</td>\n    </tr>\n    <tr>\n      <th>3</th>\n      <td>5</td>\n      <td>36</td>\n      <td>2.70167</td>\n      <td>0.059093</td>\n      <td>1.000000</td>\n    </tr>\n    <tr>\n      <th>4</th>\n      <td>6</td>\n      <td>39</td>\n      <td>3.77342</td>\n      <td>0.994522</td>\n      <td>1.000000</td>\n    </tr>\n    <tr>\n      <th>5</th>\n      <td>7</td>\n      <td>37</td>\n      <td>1.85727</td>\n      <td>0.028162</td>\n      <td>0.992000</td>\n    </tr>\n    <tr>\n      <th>6</th>\n      <td>9</td>\n      <td>36</td>\n      <td>3.21745</td>\n      <td>0.039634</td>\n      <td>0.995192</td>\n    </tr>\n  </tbody>\n</table>\n</div>"
     },
     "execution_count": 6,
     "metadata": {},
     "output_type": "execute_result"
    }
   ],
   "source": [
    "import pandas as pd\n",
    "def analyse_datalog_file(file_path):\n",
    "    file_path = file_path\n",
    "    # 初始化数据存储\n",
    "    data = []\n",
    "    \n",
    "    # 读取文件内容并解析\n",
    "    with open(file_path, 'r') as file:\n",
    "        lines = file.readlines()\n",
    "    \n",
    "    # 解析每一行并组织数据\n",
    "    send_pkg_dict = {}\n",
    "    node_pair_map = {}\n",
    "    for line in lines:\n",
    "        line = line.strip()\n",
    "        if line.startswith(\"src:\"):\n",
    "            parts = line.split(\", \")\n",
    "            src = int(parts[0].split(\": \")[1])\n",
    "            dst = int(parts[1].split(\": \")[1])\n",
    "            if not (src,dst) in node_pair_map:\n",
    "                node_pair_map[(src,dst)] = {}\n",
    "                \n",
    "            if 'sendPkgCount' in parts[2]:\n",
    "                sendPkgCount = int(parts[2].split(\": \")[1])\n",
    "                node_pair_map[(src,dst)]['sendPkgCount'] = sendPkgCount\n",
    "                \n",
    "            else:\n",
    "                avgDelay = float(parts[2].split(\": \")[1])\n",
    "                node_pair_map[(src,dst)]['avgDelay'] = avgDelay\n",
    "                avgJitter = float(parts[3].split(\": \")[1])\n",
    "                node_pair_map[(src,dst)]['avgJitter'] = avgJitter\n",
    "                \n",
    "                pkgReceiveCount = int(parts[4].split(\": \")[1])\n",
    "                node_pair_map[(src,dst)]['pkgReceiveCount'] = pkgReceiveCount\n",
    "                \n",
    "    for k, v in node_pair_map.items():   \n",
    "        src, dst = k\n",
    "        \n",
    "        if 'pkgReceiveCount' in v:\n",
    "            data.append({\n",
    "                'src': src,\n",
    "                'dst': dst,\n",
    "                'avgDelay': v['avgDelay'] if 'avgDelay' in v else -1,\n",
    "                'avgJitter':v['avgJitter'] if 'avgDelay' in v else -1,\n",
    "                'pkgLossRate': v['pkgReceiveCount']/v['sendPkgCount'] if 'pkgReceiveCount' in v else -1\n",
    "            })\n",
    "\n",
    "    # 创建 DataFrame\n",
    "    df = pd.DataFrame(data, columns=['src', 'dst', 'avgDelay', 'avgJitter','pkgLossRate'])\n",
    "    # 打印 DataFrame\n",
    "    return df\n",
    "\n",
    "analyse_datalog_file('logs/87/pkg_log.txt')"
   ],
   "metadata": {
    "collapsed": false,
    "ExecuteTime": {
     "end_time": "2024-06-20T04:46:02.846133Z",
     "start_time": "2024-06-20T04:46:02.821649Z"
    }
   },
   "id": "7df5103cd32a51ca"
  },
  {
   "cell_type": "code",
   "execution_count": 13,
   "outputs": [
    {
     "name": "stdout",
     "output_type": "stream",
     "text": [
      "finished\n"
     ]
    }
   ],
   "source": [
    "import re\n",
    "import os\n",
    "def collect_integer_named_folders(directory):\n",
    "    # 正则表达式匹配整数命名的文件夹\n",
    "    pattern = re.compile(r'^\\d+$')\n",
    "\n",
    "    # 收集文件夹名称列表\n",
    "    integer_named_folders = []\n",
    "\n",
    "    # 遍历目录中的所有文件和文件夹\n",
    "    for item in os.listdir(directory):\n",
    "        item_path = os.path.join(directory, item)\n",
    "        if os.path.isdir(item_path) and pattern.match(item):\n",
    "            integer_named_folders.append(item)\n",
    "    integer_named_folders.sort()\n",
    "    return integer_named_folders\n",
    "\n",
    "def analyse_datalog_dir(data_log_dir, output_dir):\n",
    "    # 每个网络单独一张表\n",
    "    net_id_list = collect_integer_named_folders(data_log_dir)\n",
    "    for i in net_id_list:\n",
    "        data_log_path =f'logs/{i}/pkg_log.txt'\n",
    "        df = analyse_datalog_file(data_log_path)\n",
    "        df.to_csv(os.path.join(output_dir,f'net{i}_path_qos.csv'), index=False)\n",
    "\n",
    "    print(\"finished\")\n",
    "\n",
    "analyse_datalog_dir('./logs', './net_path_df')"
   ],
   "metadata": {
    "collapsed": false,
    "ExecuteTime": {
     "end_time": "2024-05-24T09:40:52.468378Z",
     "start_time": "2024-05-24T09:40:52.010208Z"
    }
   },
   "id": "fa2c4a7f8153eb0c"
  },
  {
   "cell_type": "code",
   "execution_count": 1,
   "outputs": [
    {
     "ename": "KeyError",
     "evalue": "'avgDelay'",
     "output_type": "error",
     "traceback": [
      "\u001B[0;31m---------------------------------------------------------------------------\u001B[0m",
      "\u001B[0;31mKeyError\u001B[0m                                  Traceback (most recent call last)",
      "Cell \u001B[0;32mIn[1], line 2\u001B[0m\n\u001B[1;32m      1\u001B[0m \u001B[38;5;28;01mfrom\u001B[39;00m \u001B[38;5;21;01mnetwork_sim_server\u001B[39;00m \u001B[38;5;28;01mimport\u001B[39;00m analyse_datalog_file\n\u001B[0;32m----> 2\u001B[0m res \u001B[38;5;241m=\u001B[39m \u001B[43manalyse_datalog_file\u001B[49m\u001B[43m(\u001B[49m\u001B[38;5;124;43m'\u001B[39;49m\u001B[38;5;124;43mlogs/3/pkg_log.txt\u001B[39;49m\u001B[38;5;124;43m'\u001B[39;49m\u001B[43m)\u001B[49m\n\u001B[1;32m      3\u001B[0m res\n",
      "File \u001B[0;32m~/Desktop/netowrk_sim/routing/network_sim_server.py:107\u001B[0m, in \u001B[0;36manalyse_datalog_file\u001B[0;34m(file_path)\u001B[0m\n\u001B[1;32m    101\u001B[0m     src, dst \u001B[38;5;241m=\u001B[39m k\n\u001B[1;32m    103\u001B[0m     \u001B[38;5;28;01mif\u001B[39;00m sendPkgCount \u001B[38;5;129;01mis\u001B[39;00m \u001B[38;5;129;01mnot\u001B[39;00m \u001B[38;5;28;01mNone\u001B[39;00m:\n\u001B[1;32m    104\u001B[0m         data\u001B[38;5;241m.\u001B[39mappend({\n\u001B[1;32m    105\u001B[0m             \u001B[38;5;124m'\u001B[39m\u001B[38;5;124msrc\u001B[39m\u001B[38;5;124m'\u001B[39m: src,\n\u001B[1;32m    106\u001B[0m             \u001B[38;5;124m'\u001B[39m\u001B[38;5;124mdst\u001B[39m\u001B[38;5;124m'\u001B[39m: dst,\n\u001B[0;32m--> 107\u001B[0m             \u001B[38;5;124m'\u001B[39m\u001B[38;5;124mavgDelay\u001B[39m\u001B[38;5;124m'\u001B[39m: \u001B[43mv\u001B[49m\u001B[43m[\u001B[49m\u001B[38;5;124;43m'\u001B[39;49m\u001B[38;5;124;43mavgDelay\u001B[39;49m\u001B[38;5;124;43m'\u001B[39;49m\u001B[43m]\u001B[49m,\n\u001B[1;32m    108\u001B[0m             \u001B[38;5;124m'\u001B[39m\u001B[38;5;124mavgJitter\u001B[39m\u001B[38;5;124m'\u001B[39m: v[\u001B[38;5;124m'\u001B[39m\u001B[38;5;124mavgJitter\u001B[39m\u001B[38;5;124m'\u001B[39m],\n\u001B[1;32m    109\u001B[0m             \u001B[38;5;124m'\u001B[39m\u001B[38;5;124mpkgLossRate\u001B[39m\u001B[38;5;124m'\u001B[39m: \u001B[38;5;241m1\u001B[39m \u001B[38;5;241m-\u001B[39m (v[\u001B[38;5;124m'\u001B[39m\u001B[38;5;124mpkgReceiveCount\u001B[39m\u001B[38;5;124m'\u001B[39m] \u001B[38;5;241m/\u001B[39m v[\u001B[38;5;124m'\u001B[39m\u001B[38;5;124msendPkgCount\u001B[39m\u001B[38;5;124m'\u001B[39m])\n\u001B[1;32m    110\u001B[0m         })\n\u001B[1;32m    112\u001B[0m \u001B[38;5;66;03m# 创建 DataFrame\u001B[39;00m\n\u001B[1;32m    113\u001B[0m df \u001B[38;5;241m=\u001B[39m pd\u001B[38;5;241m.\u001B[39mDataFrame(data, columns\u001B[38;5;241m=\u001B[39m[\u001B[38;5;124m'\u001B[39m\u001B[38;5;124msrc\u001B[39m\u001B[38;5;124m'\u001B[39m, \u001B[38;5;124m'\u001B[39m\u001B[38;5;124mdst\u001B[39m\u001B[38;5;124m'\u001B[39m, \u001B[38;5;124m'\u001B[39m\u001B[38;5;124mavgDelay\u001B[39m\u001B[38;5;124m'\u001B[39m, \u001B[38;5;124m'\u001B[39m\u001B[38;5;124mavgJitter\u001B[39m\u001B[38;5;124m'\u001B[39m, \u001B[38;5;124m'\u001B[39m\u001B[38;5;124mpkgLossRate\u001B[39m\u001B[38;5;124m'\u001B[39m])\n",
      "\u001B[0;31mKeyError\u001B[0m: 'avgDelay'"
     ]
    }
   ],
   "source": [
    "from network_sim_server import analyse_datalog_file\n",
    "res = analyse_datalog_file('logs/3/pkg_log.txt')\n",
    "res"
   ],
   "metadata": {
    "collapsed": false,
    "ExecuteTime": {
     "end_time": "2024-06-13T02:43:40.241800Z",
     "start_time": "2024-06-13T02:43:39.397227Z"
    }
   },
   "id": "1bb0b176a7f4adfb"
  },
  {
   "cell_type": "code",
   "execution_count": null,
   "outputs": [],
   "source": [],
   "metadata": {
    "collapsed": false
   },
   "id": "54d29efcf5f4756"
  }
 ],
 "metadata": {
  "kernelspec": {
   "display_name": "Python 3",
   "language": "python",
   "name": "python3"
  },
  "language_info": {
   "codemirror_mode": {
    "name": "ipython",
    "version": 2
   },
   "file_extension": ".py",
   "mimetype": "text/x-python",
   "name": "python",
   "nbconvert_exporter": "python",
   "pygments_lexer": "ipython2",
   "version": "2.7.6"
  }
 },
 "nbformat": 4,
 "nbformat_minor": 5
}
