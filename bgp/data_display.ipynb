{
 "cells": [
  {
   "cell_type": "code",
   "execution_count": 11,
   "id": "initial_id",
   "metadata": {
    "collapsed": true,
    "ExecuteTime": {
     "end_time": "2024-06-20T07:53:49.250221Z",
     "start_time": "2024-06-20T07:53:49.233164Z"
    }
   },
   "outputs": [
    {
     "data": {
      "text/plain": "{'ospf': [[31, 6, 28],\n  [35, 27, 27],\n  [28, 1, 21],\n  [4, 36, 27],\n  [12, 13, 8],\n  [37, 10, 32],\n  [39, 21, 15],\n  [41, 20, 14],\n  [31, 36, 5],\n  [20, 41, 17],\n  [42, 18, 15],\n  [30, 1, 19],\n  [27, 37, 32]],\n 'bgp_route': [[71, 30, 3],\n  [98, 20, 7],\n  [80, 70, 8],\n  [60, 30, 4],\n  [79, 50, 4],\n  [53, 30, 1],\n  [69, 40, 1],\n  [89, 80, 5],\n  [51, 30, 3],\n  [77, 0, 1],\n  [84, 80, 5],\n  [63, 30, 4]]}"
     },
     "execution_count": 11,
     "metadata": {},
     "output_type": "execute_result"
    }
   ],
   "source": [
    "import pickle\n",
    "\n",
    "with open('update_data_100/3/update_record.pkl', 'rb') as f:\n",
    "    update_record = pickle.load(f)\n",
    "update_record"
   ]
  },
  {
   "cell_type": "markdown",
   "source": [
    "update_record是对配置参数进行了哪些更改的记录"
   ],
   "metadata": {
    "collapsed": false
   },
   "id": "646bd80e0832e7d9"
  },
  {
   "cell_type": "code",
   "execution_count": 2,
   "outputs": [
    {
     "data": {
      "text/plain": "[fwd(c2,c34,c27),\n fwd(c27,c34,c15),\n fwd(c15,c34,c28),\n not fwd(c9,c37,c23),\n not fwd(c23,c37,c9),\n not fwd(c9,c37,c30),\n fwd(c31,c39,c9),\n fwd(c9,c39,c22),\n not fwd(c14,c34,c15),\n not fwd(c15,c34,c20),\n trafficIsolation(c25,c14,c39,c37),\n trafficIsolation(c17,c29,c35,c39),\n not trafficIsolation(c7,c9,c38,c34),\n not reachable(c28,c37,c10),\n reachable(c6,c38,c64),\n reachable(c33,c34,c44),\n reachable(c24,c38,c22),\n not reachable(c16,c36,c9),\n not reachable(c30,c37,c5)]"
     },
     "execution_count": 2,
     "metadata": {},
     "output_type": "execute_result"
    }
   ],
   "source": [
    "import pickle\n",
    "with open('understand_data_70/3/facts.pkl', 'rb') as f:\n",
    "    facts = pickle.load(f)\n",
    "facts"
   ],
   "metadata": {
    "collapsed": false,
    "ExecuteTime": {
     "end_time": "2024-06-25T12:41:34.543140Z",
     "start_time": "2024-06-25T12:41:33.173628Z"
    }
   },
   "id": "e08a919cba3aa527"
  },
  {
   "cell_type": "markdown",
   "source": [
    "facts是要更新的路由策略，fwd(c0,c5,c4)表示从c0到c5下一跳是c4，not fwd(c0,c5,c3)则表示下一跳不能是c3\n",
    "reachable(c7,c20,c14)表示要经过c14\n",
    "trafficIsolation(c0,c3,c20,c19)表示c0到c19、c20的流量不能同时经过c3"
   ],
   "metadata": {
    "collapsed": false
   },
   "id": "35005242f3950b83"
  },
  {
   "cell_type": "code",
   "execution_count": 14,
   "outputs": [
    {
     "data": {
      "text/plain": "'Now we need to ensure that the end-to-end delay of the traffic from node c0 to node c36 is less than 2300ms, the average jitter is less than 90ms, and the packet loss rate is less than 0.05%'"
     },
     "execution_count": 14,
     "metadata": {},
     "output_type": "execute_result"
    }
   ],
   "source": [
    "import pandas as pd\n",
    "qos = pd.read_json('update_data_70/9/end2end_qos.jsonl', lines=True)\n",
    "qos.loc[0]['qos_constraint']"
   ],
   "metadata": {
    "collapsed": false,
    "ExecuteTime": {
     "end_time": "2024-06-20T07:54:22.535485Z",
     "start_time": "2024-06-20T07:54:22.514143Z"
    }
   },
   "id": "1d964bf572587af6"
  },
  {
   "cell_type": "markdown",
   "source": [
    "qos_constraint存储了该网络的端到端qos目标"
   ],
   "metadata": {
    "collapsed": false
   },
   "id": "b1f233b1b1d9f156"
  }
 ],
 "metadata": {
  "kernelspec": {
   "display_name": "Python 3",
   "language": "python",
   "name": "python3"
  },
  "language_info": {
   "codemirror_mode": {
    "name": "ipython",
    "version": 2
   },
   "file_extension": ".py",
   "mimetype": "text/x-python",
   "name": "python",
   "nbconvert_exporter": "python",
   "pygments_lexer": "ipython2",
   "version": "2.7.6"
  }
 },
 "nbformat": 4,
 "nbformat_minor": 5
}
